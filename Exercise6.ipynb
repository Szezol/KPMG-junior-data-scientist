{
 "cells": [
  {
   "cell_type": "code",
   "execution_count": 1,
   "id": "0b1b7e21",
   "metadata": {},
   "outputs": [],
   "source": [
    "def rec(money, price, wrapping):\n",
    "    '''\n",
    "    This function calculates how much cookies can be consumed by the given amount money. \n",
    "    We can buy one for the given price. And we also can change the wrap of cookies per the input variable(wrapping).\n",
    "    '''\n",
    "    \n",
    "    buyed_cookies = money // price            # It calculates how many cookies can be buyed for money. \n",
    "    wrap = buyed_cookies                      # We will have the same amount wrap\n",
    "    \n",
    "    \n",
    "    def wrap_changing(wrap,wrapping):         # This is a local function for tha wrap changing. The first input is\n",
    "                                              # how many wraps we have, the second is the given changing amount.\n",
    "        wrapped_cookies = wrap// wrapping           # Newly consumed cookies \n",
    "        wrap = wrapped_cookies + wrap%wrapping      # All wraps we have.\n",
    "        \n",
    "        if wrap >= wrapping:                        # if we have more wrap then the given amount, we should continue the process.\n",
    "            return wrapped_cookies + wrap_changing(wrap,wrapping)\n",
    "        else:                                       # else, we have the final solution.\n",
    "            return wrapped_cookies\n",
    "        \n",
    "    return buyed_cookies + wrap_changing(wrap,wrapping)        "
   ]
  }
 ],
 "metadata": {
  "kernelspec": {
   "display_name": "Python 3",
   "language": "python",
   "name": "python3"
  },
  "language_info": {
   "codemirror_mode": {
    "name": "ipython",
    "version": 3
   },
   "file_extension": ".py",
   "mimetype": "text/x-python",
   "name": "python",
   "nbconvert_exporter": "python",
   "pygments_lexer": "ipython3",
   "version": "3.6.9"
  }
 },
 "nbformat": 4,
 "nbformat_minor": 5
}
