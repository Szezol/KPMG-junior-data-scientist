{
 "cells": [
  {
   "cell_type": "code",
   "execution_count": 1,
   "id": "42021d53",
   "metadata": {},
   "outputs": [],
   "source": [
    "def queen_moves(n,q_r,q_c,obs_list):\n",
    "    '''\n",
    "    This function counts how many possible position is available for the queen at a n*n chessboard.\n",
    "    The first input, n is the length of the chessboard\n",
    "    The second and third input is the coordinates of the queen\n",
    "    The fourth input is a list of positions where an obstacle stand and the queen can't go through and can't step on it\n",
    "    '''\n",
    "    \n",
    "    total = 0                                          # This variable will be the result\n",
    "    obs_list = [list(x) for x in obs_list]             # It casts the tuples (positions) into lists for checking\n",
    "    \n",
    "    directions = {                                     # These are the possible directions, moves by the queen.\n",
    "        'up' : [0,1] ,\n",
    "        'upright' : [1,1] ,\n",
    "        'right' : [1,0] , \n",
    "        'downright' : [1,-1] ,\n",
    "        'down' : [0,-1] ,\n",
    "        'downleft' : [-1,-1] ,\n",
    "        'left' : [-1,0] ,\n",
    "        'upleft' : [-1,1]\n",
    "    }\n",
    "    \n",
    "    def check(position,obs_list):                      # This function checks that the position where the queen would step onto \n",
    "        empty = True                                   # whether is empty and on the table or not\n",
    "        \n",
    "        if position in obs_list or position[0] > n or position[0] < 1 or position[1] > n or position[1] < 1:\n",
    "            empty = False\n",
    "        \n",
    "        return empty\n",
    "\n",
    "    \n",
    "    for d in directions.values():                      # goes through all the available directions to see how many positions \n",
    "        temp_position = [q_r+d[0],q_c+d[1]]            # the queen can enter\n",
    "        while check(temp_position,obs_list):\n",
    "            temp_position[0] += d[0]\n",
    "            temp_position[1] += d[1]\n",
    "            total += 1\n",
    "    \n",
    "    return total\n",
    "        \n",
    "        "
   ]
  }
 ],
 "metadata": {
  "kernelspec": {
   "display_name": "Python 3",
   "language": "python",
   "name": "python3"
  },
  "language_info": {
   "codemirror_mode": {
    "name": "ipython",
    "version": 3
   },
   "file_extension": ".py",
   "mimetype": "text/x-python",
   "name": "python",
   "nbconvert_exporter": "python",
   "pygments_lexer": "ipython3",
   "version": "3.6.9"
  }
 },
 "nbformat": 4,
 "nbformat_minor": 5
}
