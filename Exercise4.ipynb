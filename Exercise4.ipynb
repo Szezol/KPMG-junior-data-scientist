{
 "cells": [
  {
   "cell_type": "code",
   "execution_count": 1,
   "id": "90ce9c5d",
   "metadata": {},
   "outputs": [],
   "source": [
    "import numpy as np"
   ]
  },
  {
   "cell_type": "code",
   "execution_count": 2,
   "id": "683b10fd",
   "metadata": {},
   "outputs": [],
   "source": [
    "def rowwise_norm(array):\n",
    "    '''\n",
    "    This function computes the Euclidean norm of each line for a 2D array.\n",
    "    The input is a 2D array.\n",
    "    '''\n",
    "    array = np.array(array, np.int64)          # Firstly it transforms the input array into a numpy array to make the necessary \n",
    "    return np.sum(array**2,axis=1)**(1/2)      # functions available. Then it changes all elements for their square.\n",
    "                                               # Aggregates them line by line, then calculates theirs roots.  "
   ]
  }
 ],
 "metadata": {
  "kernelspec": {
   "display_name": "Python 3",
   "language": "python",
   "name": "python3"
  },
  "language_info": {
   "codemirror_mode": {
    "name": "ipython",
    "version": 3
   },
   "file_extension": ".py",
   "mimetype": "text/x-python",
   "name": "python",
   "nbconvert_exporter": "python",
   "pygments_lexer": "ipython3",
   "version": "3.6.9"
  }
 },
 "nbformat": 4,
 "nbformat_minor": 5
}
