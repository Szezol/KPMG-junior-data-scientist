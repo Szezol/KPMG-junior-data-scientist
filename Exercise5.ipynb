{
 "cells": [
  {
   "cell_type": "code",
   "execution_count": 1,
   "id": "60cbe6ed",
   "metadata": {},
   "outputs": [],
   "source": [
    "import numpy as np"
   ]
  },
  {
   "cell_type": "code",
   "execution_count": 2,
   "id": "40bd9fc8",
   "metadata": {},
   "outputs": [],
   "source": [
    "def diagonal_matrix(matrix_list):\n",
    "    '''\n",
    "    This function creates a block-matrix from the input list of matrices.\n",
    "    '''\n",
    "    \n",
    "    len_list = [len(arg) for arg in args]                         # Firstly creates a list with the leght of the input matrices\n",
    "    n = sum(len_list)                                             # Calculates the block-matrix lenght.\n",
    "    \n",
    "    block_matrix = np.matrix(np.zeros((n,n),dtype=int))           # Create a matrix with full of zeros.\n",
    "    bm_index = 0                                                  # This variable is necessary for knowing where starts the next matrix.\n",
    "    \n",
    "    for index, matrix in enumerate(matrix_list):                  # It practically copies the square matrices to the right place. \n",
    "        for x in range(len_list[index]):                          # It takes the length of each matrices and changes the values \n",
    "            for y in range(len_list[index]):                      # from element to element according to the indexes.\n",
    "                block_matrix[bm_index+x,bm_index+y] = matrix[x,y]\n",
    "        \n",
    "        bm_index += len_list[index]                               # It increases the bm_index by the length of the current matrix \n",
    "                                                                  # to know where should start the next matrix.\n",
    "    return block_matrix"
   ]
  }
 ],
 "metadata": {
  "kernelspec": {
   "display_name": "Python 3",
   "language": "python",
   "name": "python3"
  },
  "language_info": {
   "codemirror_mode": {
    "name": "ipython",
    "version": 3
   },
   "file_extension": ".py",
   "mimetype": "text/x-python",
   "name": "python",
   "nbconvert_exporter": "python",
   "pygments_lexer": "ipython3",
   "version": "3.6.9"
  }
 },
 "nbformat": 4,
 "nbformat_minor": 5
}
