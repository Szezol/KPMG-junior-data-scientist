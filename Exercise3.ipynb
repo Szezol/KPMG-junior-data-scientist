{
 "cells": [
  {
   "cell_type": "code",
   "execution_count": 1,
   "id": "8ec4e017",
   "metadata": {},
   "outputs": [],
   "source": [
    "import numpy as np"
   ]
  },
  {
   "cell_type": "code",
   "execution_count": 2,
   "id": "7d35587a",
   "metadata": {},
   "outputs": [],
   "source": [
    "def chessboard_making(n):\n",
    "    '''\n",
    "    This function creates a n*n legth chessboard where the values of the fields are alternating. The first element is -1\n",
    "    and its neighbours are 1-s, and the 1-s' neighbours are -1-s, and so on.\n",
    "    \n",
    "    The input is the length of the chessboard.\n",
    "    '''\n",
    "    \n",
    "    matrix = np.ones((n,n),dtype=int)         # Firstly creates a matrix with full of 1-s.\n",
    "    for i in range(n):\n",
    "        for j in range(n):\n",
    "            if (i+j) % 2 == 1:                # Secondly change those for -1-s where is required(where i+j is odd)\n",
    "                matrix[i][j] = -1\n",
    "    return matrix"
   ]
  }
 ],
 "metadata": {
  "kernelspec": {
   "display_name": "Python 3",
   "language": "python",
   "name": "python3"
  },
  "language_info": {
   "codemirror_mode": {
    "name": "ipython",
    "version": 3
   },
   "file_extension": ".py",
   "mimetype": "text/x-python",
   "name": "python",
   "nbconvert_exporter": "python",
   "pygments_lexer": "ipython3",
   "version": "3.6.9"
  }
 },
 "nbformat": 4,
 "nbformat_minor": 5
}
