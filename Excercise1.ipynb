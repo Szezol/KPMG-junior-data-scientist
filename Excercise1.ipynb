{
 "cells": [
  {
   "cell_type": "code",
   "execution_count": 7,
   "id": "95351a68",
   "metadata": {},
   "outputs": [],
   "source": [
    "def surface_calculation(list1):\n",
    "    '''\n",
    "    The function calculates the surface area of the structure based on the input list of integers.\n",
    "    '''\n",
    "    \n",
    "    surf_list = [4*abs(x)+2 for x in list1 if x != 0]   #Firstly it calculates every elements' surface, then aggregates     \n",
    "    total_surface = sum(surf_list)                      #   them in the next step.  *(if x==0, then surface = 0)\n",
    "    \n",
    "    for i in range(1,len(list1)):                          \n",
    "        if list1[i]*list1[i-1] >0:                      #Checking whether the neighbours have a connection(both positive or negative)\n",
    "            if abs(list1[i]) < abs(list1[i-1]):         #Then it substracts the connected areas*2 from the total.\n",
    "                total_surface -= abs(list1[i])*2        #*(Chooses the smaller absolut value for the two tower.)\n",
    "            else:\n",
    "                total_surface -= abs(list1[i-1])*2\n",
    "            \n",
    "    return total_surface"
   ]
  },
  {
   "cell_type": "code",
   "execution_count": null,
   "id": "1d4f057b",
   "metadata": {},
   "outputs": [],
   "source": []
  }
 ],
 "metadata": {
  "kernelspec": {
   "display_name": "Python 3",
   "language": "python",
   "name": "python3"
  },
  "language_info": {
   "codemirror_mode": {
    "name": "ipython",
    "version": 3
   },
   "file_extension": ".py",
   "mimetype": "text/x-python",
   "name": "python",
   "nbconvert_exporter": "python",
   "pygments_lexer": "ipython3",
   "version": "3.6.9"
  }
 },
 "nbformat": 4,
 "nbformat_minor": 5
}
